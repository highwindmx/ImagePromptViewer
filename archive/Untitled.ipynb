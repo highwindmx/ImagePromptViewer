{
 "cells": [
  {
   "cell_type": "code",
   "execution_count": 1,
   "id": "0486e786-c709-4cc7-afa1-6c9ed0c30f5f",
   "metadata": {},
   "outputs": [
    {
     "name": "stdout",
     "output_type": "stream",
     "text": [
      "图片基本属性：\n",
      "格式：PNG\n",
      "尺寸：(1024, 1024)\n",
      "模式：RGB\n",
      "是否动画：否\n",
      "帧数：1\n",
      "\n",
      "EXIF数据：\n",
      "此图片没有EXIF数据。\n"
     ]
    }
   ],
   "source": [
    "from PIL import Image\n",
    "\n",
    "def extract_image_metadata(image_path):\n",
    "    # 打开图片\n",
    "    with Image.open(image_path) as img:\n",
    "        # 获取图片的基本属性\n",
    "        print(\"图片基本属性：\")\n",
    "        print(f\"格式：{img.format}\")\n",
    "        print(f\"尺寸：{img.size}\")\n",
    "        print(f\"模式：{img.mode}\")\n",
    "        print(f\"是否动画：{'是' if img.is_animated else '否'}\")\n",
    "        print(f\"帧数：{img.n_frames}\")\n",
    "\n",
    "        # 获取EXIF数据\n",
    "        print(\"\\nEXIF数据：\")\n",
    "        exif_data = img._getexif()\n",
    "        if exif_data:\n",
    "            for tag_id, value in exif_data.items():\n",
    "                # 获取EXIF标签名称\n",
    "                tag = Image.ExifTags.TAGS.get(tag_id, tag_id)\n",
    "                print(f\"{tag:25}: {value}\")\n",
    "        else:\n",
    "            print(\"此图片没有EXIF数据。\")\n",
    "\n",
    "# 示例用法\n",
    "image_path = \"./ComfyUI_00014_.png\"  # 替换为你的图片路径\n",
    "extract_image_metadata(image_path)"
   ]
  },
  {
   "cell_type": "code",
   "execution_count": 2,
   "id": "97f6ea2e-42bf-423c-8eda-ff31448880d9",
   "metadata": {},
   "outputs": [],
   "source": [
    "from pyexiv2 import Image\n",
    "\n",
    "def extract_image_metadata(image_path):\n",
    "    # 打开图片\n",
    "    image = Image(image_path)\n",
    "    # 获取EXIF数据\n",
    "    metadata = image.read_exif()\n",
    "    # 打印EXIF数据\n",
    "    for tag, value in metadata.items():\n",
    "        print(f\"{tag}: {value}\")\n",
    "\n",
    "# 示例用法\n",
    "#image_path = \"your_image.jpg\"  # 替换为你的图片路径\n",
    "extract_image_metadata(image_path)\n"
   ]
  },
  {
   "cell_type": "code",
   "execution_count": 3,
   "id": "2317ae61-bcc7-47d8-a927-45995ffe7c03",
   "metadata": {},
   "outputs": [
    {
     "name": "stderr",
     "output_type": "stream",
     "text": [
      "PNG file does not have exif data.\n"
     ]
    }
   ],
   "source": [
    "import exifread\n",
    "\n",
    "def extract_image_metadata(image_path):\n",
    "    # 打开图片文件\n",
    "    with open(image_path, 'rb') as image_file:\n",
    "        # 获取EXIF数据\n",
    "        tags = exifread.process_file(image_file)\n",
    "        # 打印EXIF数据\n",
    "        for tag, value in tags.items():\n",
    "            print(f\"{tag}: {value}\")\n",
    "\n",
    "# 示例用法\n",
    "#image_path = \"your_image.jpg\"  # 替换为你的图片路径\n",
    "extract_image_metadata(image_path)"
   ]
  },
  {
   "cell_type": "code",
   "execution_count": 4,
   "id": "f5cfc0c5-ee79-490b-a994-928c6915d2ad",
   "metadata": {
    "scrolled": true
   },
   "outputs": [
    {
     "ename": "InvalidImageDataError",
     "evalue": "Given file is neither JPEG nor TIFF.",
     "output_type": "error",
     "traceback": [
      "\u001b[31m---------------------------------------------------------------------------\u001b[39m",
      "\u001b[31mInvalidImageDataError\u001b[39m                     Traceback (most recent call last)",
      "\u001b[36mCell\u001b[39m\u001b[36m \u001b[39m\u001b[32mIn[4]\u001b[39m\u001b[32m, line 13\u001b[39m\n\u001b[32m      9\u001b[39m             \u001b[38;5;28mprint\u001b[39m(\u001b[33mf\u001b[39m\u001b[33m\"\u001b[39m\u001b[38;5;132;01m{\u001b[39;00mpiexif.TAGS[ifd][tag][\u001b[33m'\u001b[39m\u001b[33mname\u001b[39m\u001b[33m'\u001b[39m]\u001b[38;5;132;01m}\u001b[39;00m\u001b[33m: \u001b[39m\u001b[38;5;132;01m{\u001b[39;00mexif_data[ifd][tag]\u001b[38;5;132;01m}\u001b[39;00m\u001b[33m\"\u001b[39m)\n\u001b[32m     11\u001b[39m \u001b[38;5;66;03m# 示例用法\u001b[39;00m\n\u001b[32m     12\u001b[39m \u001b[38;5;66;03m#image_path = \"your_image.jpg\"  # 替换为你的图片路径\u001b[39;00m\n\u001b[32m---> \u001b[39m\u001b[32m13\u001b[39m \u001b[43mextract_image_metadata\u001b[49m\u001b[43m(\u001b[49m\u001b[43mimage_path\u001b[49m\u001b[43m)\u001b[49m\n",
      "\u001b[36mCell\u001b[39m\u001b[36m \u001b[39m\u001b[32mIn[4]\u001b[39m\u001b[32m, line 5\u001b[39m, in \u001b[36mextract_image_metadata\u001b[39m\u001b[34m(image_path)\u001b[39m\n\u001b[32m      3\u001b[39m \u001b[38;5;28;01mdef\u001b[39;00m\u001b[38;5;250m \u001b[39m\u001b[34mextract_image_metadata\u001b[39m(image_path):\n\u001b[32m      4\u001b[39m     \u001b[38;5;66;03m# 获取EXIF数据\u001b[39;00m\n\u001b[32m----> \u001b[39m\u001b[32m5\u001b[39m     exif_data = \u001b[43mpiexif\u001b[49m\u001b[43m.\u001b[49m\u001b[43mload\u001b[49m\u001b[43m(\u001b[49m\u001b[43mimage_path\u001b[49m\u001b[43m)\u001b[49m\n\u001b[32m      6\u001b[39m     \u001b[38;5;66;03m# 打印EXIF数据\u001b[39;00m\n\u001b[32m      7\u001b[39m     \u001b[38;5;28;01mfor\u001b[39;00m ifd \u001b[38;5;129;01min\u001b[39;00m exif_data:\n",
      "\u001b[36mFile \u001b[39m\u001b[32mD:\\Dev\\Tools\\conda3\\envs\\p312pic\\Lib\\site-packages\\piexif\\_load.py:28\u001b[39m, in \u001b[36mload\u001b[39m\u001b[34m(input_data, key_is_name)\u001b[39m\n\u001b[32m     13\u001b[39m \u001b[38;5;250m\u001b[39m\u001b[33;03m\"\"\"\u001b[39;00m\n\u001b[32m     14\u001b[39m \u001b[33;03mpy:function:: piexif.load(filename)\u001b[39;00m\n\u001b[32m     15\u001b[39m \n\u001b[32m   (...)\u001b[39m\u001b[32m     20\u001b[39m \u001b[33;03m:rtype: dict\u001b[39;00m\n\u001b[32m     21\u001b[39m \u001b[33;03m\"\"\"\u001b[39;00m\n\u001b[32m     22\u001b[39m exif_dict = {\u001b[33m\"\u001b[39m\u001b[33m0th\u001b[39m\u001b[33m\"\u001b[39m:{},\n\u001b[32m     23\u001b[39m              \u001b[33m\"\u001b[39m\u001b[33mExif\u001b[39m\u001b[33m\"\u001b[39m:{},\n\u001b[32m     24\u001b[39m              \u001b[33m\"\u001b[39m\u001b[33mGPS\u001b[39m\u001b[33m\"\u001b[39m:{},\n\u001b[32m     25\u001b[39m              \u001b[33m\"\u001b[39m\u001b[33mInterop\u001b[39m\u001b[33m\"\u001b[39m:{},\n\u001b[32m     26\u001b[39m              \u001b[33m\"\u001b[39m\u001b[33m1st\u001b[39m\u001b[33m\"\u001b[39m:{},\n\u001b[32m     27\u001b[39m              \u001b[33m\"\u001b[39m\u001b[33mthumbnail\u001b[39m\u001b[33m\"\u001b[39m:\u001b[38;5;28;01mNone\u001b[39;00m}\n\u001b[32m---> \u001b[39m\u001b[32m28\u001b[39m exifReader = \u001b[43m_ExifReader\u001b[49m\u001b[43m(\u001b[49m\u001b[43minput_data\u001b[49m\u001b[43m)\u001b[49m\n\u001b[32m     29\u001b[39m \u001b[38;5;28;01mif\u001b[39;00m exifReader.tiftag \u001b[38;5;129;01mis\u001b[39;00m \u001b[38;5;28;01mNone\u001b[39;00m:\n\u001b[32m     30\u001b[39m     \u001b[38;5;28;01mreturn\u001b[39;00m exif_dict\n",
      "\u001b[36mFile \u001b[39m\u001b[32mD:\\Dev\\Tools\\conda3\\envs\\p312pic\\Lib\\site-packages\\piexif\\_load.py:104\u001b[39m, in \u001b[36m_ExifReader.__init__\u001b[39m\u001b[34m(self, data)\u001b[39m\n\u001b[32m    102\u001b[39m     \u001b[38;5;28mself\u001b[39m.tiftag = _webp.get_exif(file_data)\n\u001b[32m    103\u001b[39m \u001b[38;5;28;01melse\u001b[39;00m:\n\u001b[32m--> \u001b[39m\u001b[32m104\u001b[39m     \u001b[38;5;28;01mraise\u001b[39;00m InvalidImageDataError(\u001b[33m\"\u001b[39m\u001b[33mGiven file is neither JPEG nor TIFF.\u001b[39m\u001b[33m\"\u001b[39m)\n",
      "\u001b[31mInvalidImageDataError\u001b[39m: Given file is neither JPEG nor TIFF."
     ]
    }
   ],
   "source": [
    "import piexif\n",
    "\n",
    "def extract_image_metadata(image_path):\n",
    "    # 获取EXIF数据\n",
    "    exif_data = piexif.load(image_path)\n",
    "    # 打印EXIF数据\n",
    "    for ifd in exif_data:\n",
    "        for tag in exif_data[ifd]:\n",
    "            print(f\"{piexif.TAGS[ifd][tag]['name']}: {exif_data[ifd][tag]}\")\n",
    "\n",
    "# 示例用法\n",
    "#image_path = \"your_image.jpg\"  # 替换为你的图片路径\n",
    "extract_image_metadata(image_path)"
   ]
  },
  {
   "cell_type": "code",
   "execution_count": 5,
   "id": "4f0b45e2-e525-466c-97a9-6dac21b26542",
   "metadata": {},
   "outputs": [
    {
     "ename": "ModuleNotFoundError",
     "evalue": "No module named 'pyexiftool'",
     "output_type": "error",
     "traceback": [
      "\u001b[31m---------------------------------------------------------------------------\u001b[39m",
      "\u001b[31mModuleNotFoundError\u001b[39m                       Traceback (most recent call last)",
      "\u001b[36mCell\u001b[39m\u001b[36m \u001b[39m\u001b[32mIn[5]\u001b[39m\u001b[32m, line 1\u001b[39m\n\u001b[32m----> \u001b[39m\u001b[32m1\u001b[39m \u001b[38;5;28;01mimport\u001b[39;00m\u001b[38;5;250m \u001b[39m\u001b[34;01mpyexiftool\u001b[39;00m\n\u001b[32m      3\u001b[39m \u001b[38;5;28;01mdef\u001b[39;00m\u001b[38;5;250m \u001b[39m\u001b[34mextract_image_metadata\u001b[39m(image_path):\n\u001b[32m      4\u001b[39m     \u001b[38;5;66;03m# 创建ExifTool对象\u001b[39;00m\n\u001b[32m      5\u001b[39m     \u001b[38;5;28;01mwith\u001b[39;00m pyexiftool.ExifTool() \u001b[38;5;28;01mas\u001b[39;00m et:\n\u001b[32m      6\u001b[39m         \u001b[38;5;66;03m# 获取元数据\u001b[39;00m\n",
      "\u001b[31mModuleNotFoundError\u001b[39m: No module named 'pyexiftool'"
     ]
    }
   ],
   "source": [
    "import pyexiftool\n",
    "\n",
    "def extract_image_metadata(image_path):\n",
    "    # 创建ExifTool对象\n",
    "    with pyexiftool.ExifTool() as et:\n",
    "        # 获取元数据\n",
    "        metadata = et.get_metadata(image_path)\n",
    "        # 打印元数据\n",
    "        for tag, value in metadata.items():\n",
    "            print(f\"{tag}: {value}\")\n",
    "\n",
    "# 示例用法\n",
    "image_path = \"./ComfyUI_00014_.png\"  # 替换为你的图片路径\n",
    "extract_image_metadata(image_path)"
   ]
  },
  {
   "cell_type": "code",
   "execution_count": 36,
   "id": "113bd113-1161-4ea4-91ff-835f7b82c534",
   "metadata": {},
   "outputs": [
    {
     "name": "stdout",
     "output_type": "stream",
     "text": [
      " A beautiful mother holding her newborn baby in the style of Disney Pixar, wearing traditional Hanfu with black hair, 3D rendering, full-body portrait, solid color background, simple background, high-definition details\n"
     ]
    }
   ],
   "source": [
    "import exiftool\n",
    "import re\n",
    "\n",
    "def extract_text_values(data):\n",
    "    with exiftool.ExifToolHelper() as et:\n",
    "        metadata = et.get_metadata(image_path)\n",
    "        pattern = r'\"text\"\\s*:\\s*\"([^\"]+)\"'\n",
    "        cleaned_text = re.findall(pattern, data)\n",
    "        if cleaned_text:\n",
    "            return \"|||\".join(cleaned_text)\n",
    "        else:\n",
    "            return \"未找到提示词（可能是图生图?）\"\n",
    "\n",
    "\n",
    "\n",
    "image_path = \"./ComfyUI_00043_.png\"\n",
    "print(extract_text_values(str(metadata)))"
   ]
  },
  {
   "cell_type": "code",
   "execution_count": 37,
   "id": "60e4d7b3-72db-423d-aef5-091e4fd50ffd",
   "metadata": {},
   "outputs": [
    {
     "data": {
      "text/plain": [
       "'89'"
      ]
     },
     "execution_count": 37,
     "metadata": {},
     "output_type": "execute_result"
    }
   ],
   "source": [
    "\"{89}\".strip(\"{}\")"
   ]
  }
 ],
 "metadata": {
  "kernelspec": {
   "display_name": "Python 3 (ipykernel)",
   "language": "python",
   "name": "python3"
  },
  "language_info": {
   "codemirror_mode": {
    "name": "ipython",
    "version": 3
   },
   "file_extension": ".py",
   "mimetype": "text/x-python",
   "name": "python",
   "nbconvert_exporter": "python",
   "pygments_lexer": "ipython3",
   "version": "3.12.9"
  }
 },
 "nbformat": 4,
 "nbformat_minor": 5
}
